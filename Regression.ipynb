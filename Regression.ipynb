{
 "cells": [
  {
   "cell_type": "code",
   "execution_count": 1,
   "metadata": {},
   "outputs": [],
   "source": [
    "from sklearn.model_selection import train_test_split\n",
    "from torch.utils.data import DataLoader, TensorDataset\n",
    "\n",
    "import os\n",
    "import pandas as pd\n",
    "import torch\n",
    "import torch.nn as nn\n",
    "import torch.optim as optim\n",
    "from torchvision import datasets, models, transforms\n",
    "from torch.utils.data import DataLoader, Dataset, random_split\n",
    "from PIL import Image\n",
    "from tqdm import tqdm\n",
    "import numpy as np\n",
    "from sklearn.metrics import r2_score\n",
    "import numpy as np"
   ]
  },
  {
   "cell_type": "code",
   "execution_count": 2,
   "metadata": {},
   "outputs": [],
   "source": [
    "# Split train into train and validate again\n",
    "new_train_csv = pd.read_csv('data/enhanced_train.csv')\n",
    "new_test_csv = pd.read_csv('data/enhanced_test.csv')\n",
    "output_mean = [1.03624107e+00, 1.48317376e+02, 1.97016450e+04, 3.48191181e+03, 1.51120666e+01, 3.99120598e+05]\n",
    "output_std = [1.37329381e-01, 6.91740145e+00, 4.31037489e+00, 6.70979751e+01, 5.93192463e-01, 2.25494269e+03]\n",
    "output_mean = np.array(output_mean)\n",
    "output_std = np.array(output_std)\n",
    "\n",
    "IDs_train = new_train_csv.iloc[:, 0].values\n",
    "X_train = new_train_csv.iloc[:, 1:-6].values\n",
    "Y_train = new_train_csv.iloc[:, -6:].values\n",
    "\n",
    "IDs_test = new_test_csv.iloc[:, 0].values\n",
    "X_test = new_test_csv.iloc[:, 1:].values\n",
    "\n",
    "# Answer to life, universe, and everything for goodluck\n",
    "X_train, X_val, Y_train, Y_val, IDs_train, IDs_val = train_test_split(\n",
    "    X_train, Y_train, IDs_train, test_size=1/11, random_state=42\n",
    ")\n",
    "\n",
    "X_train_tensor = torch.tensor(X_train, dtype=torch.float32)\n",
    "Y_train_tensor = torch.tensor(Y_train, dtype=torch.float32)\n",
    "X_test_tensor = torch.tensor(X_test, dtype=torch.float32)\n",
    "X_val_tensor = torch.tensor(X_val, dtype=torch.float32)\n",
    "Y_val_tensor = torch.tensor(Y_val, dtype=torch.float32)\n",
    "\n",
    "train_dataset = TensorDataset(X_train_tensor, Y_train_tensor)\n",
    "train_loader = DataLoader(train_dataset, batch_size=32, shuffle=True)"
   ]
  },
  {
   "cell_type": "code",
   "execution_count": 3,
   "metadata": {},
   "outputs": [],
   "source": [
    "class RegressionModel(nn.Module):\n",
    "    def __init__(self, input_dim, output_dim):\n",
    "        super(RegressionModel, self).__init__()\n",
    "        self.layer1 = nn.Linear(input_dim, 64)\n",
    "        self.layer2 = nn.Linear(64, 32)\n",
    "        self.output = nn.Linear(32, output_dim)\n",
    "\n",
    "    def forward(self, x):\n",
    "        x = torch.relu(self.layer1(x))\n",
    "        x = torch.relu(self.layer2(x))\n",
    "        x = self.output(x)\n",
    "        return x\n"
   ]
  },
  {
   "cell_type": "code",
   "execution_count": 4,
   "metadata": {},
   "outputs": [],
   "source": [
    "input_dim = X_train_tensor.shape[1]\n",
    "output_dim = Y_train_tensor.shape[1]\n",
    "\n",
    "device = torch.device(\"cuda\" if torch.cuda.is_available() else \"cpu\")\n",
    "model = RegressionModel(input_dim, output_dim).to(device)\n",
    "\n",
    "criterion = nn.MSELoss()\n",
    "optimizer = optim.Adam(model.parameters(), lr=0.001, weight_decay=0.01)"
   ]
  },
  {
   "cell_type": "code",
   "execution_count": 5,
   "metadata": {},
   "outputs": [],
   "source": [
    "def R2eval(model, X_val_tensor, Y_val_tensor):\n",
    "    model.eval()\n",
    "    with torch.no_grad():\n",
    "        X_val_tensor = X_val_tensor.to(device)\n",
    "        Y_val_tensor = Y_val_tensor.to(device)\n",
    "        val_predictions = model(X_val_tensor).cpu().numpy()\n",
    "        val_predictions = val_predictions * output_std + output_mean\n",
    "        val_predictions_tensor = torch.tensor(val_predictions, dtype=torch.float32)\n",
    "        val_predictions_tensor = val_predictions_tensor.to(device)\n",
    "        val_r2 = r2_score(Y_val, val_predictions)\n",
    "    return val_r2"
   ]
  },
  {
   "cell_type": "code",
   "execution_count": 6,
   "metadata": {},
   "outputs": [
    {
     "name": "stderr",
     "output_type": "stream",
     "text": [
      "Epoch 1/100: 100%|██████████| 1232/1232 [00:01<00:00, 712.53it/s]\n"
     ]
    },
    {
     "name": "stdout",
     "output_type": "stream",
     "text": [
      "Current Estimate R2 is 0.4430721541059537\n",
      "Saved model\n",
      "Epoch 1/100, Loss: 0.619124738838185\n"
     ]
    },
    {
     "name": "stderr",
     "output_type": "stream",
     "text": [
      "Epoch 2/100: 100%|██████████| 1232/1232 [00:01<00:00, 742.55it/s]\n"
     ]
    },
    {
     "name": "stdout",
     "output_type": "stream",
     "text": [
      "Current Estimate R2 is 0.4453653059801737\n",
      "Saved model\n",
      "Epoch 2/100, Loss: 0.5788445248474161\n"
     ]
    },
    {
     "name": "stderr",
     "output_type": "stream",
     "text": [
      "Epoch 3/100: 100%|██████████| 1232/1232 [00:01<00:00, 718.18it/s]\n"
     ]
    },
    {
     "name": "stdout",
     "output_type": "stream",
     "text": [
      "Current Estimate R2 is 0.45016754215271026\n",
      "Saved model\n",
      "Epoch 3/100, Loss: 0.5745156091432293\n"
     ]
    },
    {
     "name": "stderr",
     "output_type": "stream",
     "text": [
      "Epoch 4/100: 100%|██████████| 1232/1232 [00:01<00:00, 688.66it/s]\n"
     ]
    },
    {
     "name": "stdout",
     "output_type": "stream",
     "text": [
      "Current Estimate R2 is 0.45636508138689075\n",
      "Saved model\n",
      "Epoch 4/100, Loss: 0.5726242355228245\n"
     ]
    },
    {
     "name": "stderr",
     "output_type": "stream",
     "text": [
      "Epoch 5/100: 100%|██████████| 1232/1232 [00:01<00:00, 732.07it/s]\n"
     ]
    },
    {
     "name": "stdout",
     "output_type": "stream",
     "text": [
      "Current Estimate R2 is 0.450359277275171\n",
      "Epoch 5/100, Loss: 0.5714918358565925\n"
     ]
    },
    {
     "name": "stderr",
     "output_type": "stream",
     "text": [
      "Epoch 6/100: 100%|██████████| 1232/1232 [00:01<00:00, 759.88it/s]\n"
     ]
    },
    {
     "name": "stdout",
     "output_type": "stream",
     "text": [
      "Current Estimate R2 is 0.4542401802508797\n",
      "Epoch 6/100, Loss: 0.5708833052595328\n"
     ]
    },
    {
     "name": "stderr",
     "output_type": "stream",
     "text": [
      "Epoch 7/100: 100%|██████████| 1232/1232 [00:01<00:00, 737.57it/s]\n"
     ]
    },
    {
     "name": "stdout",
     "output_type": "stream",
     "text": [
      "Current Estimate R2 is 0.4509965924724381\n",
      "Epoch 7/100, Loss: 0.5705143152312799\n"
     ]
    },
    {
     "name": "stderr",
     "output_type": "stream",
     "text": [
      "Epoch 8/100: 100%|██████████| 1232/1232 [00:01<00:00, 746.52it/s]\n"
     ]
    },
    {
     "name": "stdout",
     "output_type": "stream",
     "text": [
      "Current Estimate R2 is 0.4583567700420858\n",
      "Saved model\n",
      "Epoch 8/100, Loss: 0.568626776627906\n"
     ]
    },
    {
     "name": "stderr",
     "output_type": "stream",
     "text": [
      "Epoch 9/100: 100%|██████████| 1232/1232 [00:01<00:00, 665.89it/s]\n"
     ]
    },
    {
     "name": "stdout",
     "output_type": "stream",
     "text": [
      "Current Estimate R2 is 0.45469688156267846\n",
      "Epoch 9/100, Loss: 0.5683532797961266\n"
     ]
    },
    {
     "name": "stderr",
     "output_type": "stream",
     "text": [
      "Epoch 10/100: 100%|██████████| 1232/1232 [00:01<00:00, 672.84it/s]\n"
     ]
    },
    {
     "name": "stdout",
     "output_type": "stream",
     "text": [
      "Current Estimate R2 is 0.4595577612374431\n",
      "Saved model\n",
      "Epoch 10/100, Loss: 0.5685673487408982\n"
     ]
    },
    {
     "name": "stderr",
     "output_type": "stream",
     "text": [
      "Epoch 11/100: 100%|██████████| 1232/1232 [00:01<00:00, 667.15it/s]\n"
     ]
    },
    {
     "name": "stdout",
     "output_type": "stream",
     "text": [
      "Current Estimate R2 is 0.45640864193634806\n",
      "Epoch 11/100, Loss: 0.5691204416480932\n"
     ]
    },
    {
     "name": "stderr",
     "output_type": "stream",
     "text": [
      "Epoch 12/100: 100%|██████████| 1232/1232 [00:01<00:00, 718.79it/s]\n"
     ]
    },
    {
     "name": "stdout",
     "output_type": "stream",
     "text": [
      "Current Estimate R2 is 0.4460566890610811\n",
      "Epoch 12/100, Loss: 0.5682724435608109\n"
     ]
    },
    {
     "name": "stderr",
     "output_type": "stream",
     "text": [
      "Epoch 13/100: 100%|██████████| 1232/1232 [00:01<00:00, 758.12it/s]\n"
     ]
    },
    {
     "name": "stdout",
     "output_type": "stream",
     "text": [
      "Current Estimate R2 is 0.45897964925526064\n",
      "Epoch 13/100, Loss: 0.5683096885536011\n"
     ]
    },
    {
     "name": "stderr",
     "output_type": "stream",
     "text": [
      "Epoch 14/100: 100%|██████████| 1232/1232 [00:01<00:00, 774.82it/s]\n"
     ]
    },
    {
     "name": "stdout",
     "output_type": "stream",
     "text": [
      "Current Estimate R2 is 0.46278935504104646\n",
      "Saved model\n",
      "Epoch 14/100, Loss: 0.5683834829984548\n"
     ]
    },
    {
     "name": "stderr",
     "output_type": "stream",
     "text": [
      "Epoch 15/100: 100%|██████████| 1232/1232 [00:01<00:00, 753.74it/s]\n"
     ]
    },
    {
     "name": "stdout",
     "output_type": "stream",
     "text": [
      "Current Estimate R2 is 0.4605845257863006\n",
      "Epoch 15/100, Loss: 0.5677604883328661\n"
     ]
    },
    {
     "name": "stderr",
     "output_type": "stream",
     "text": [
      "Epoch 16/100: 100%|██████████| 1232/1232 [00:01<00:00, 741.71it/s]\n"
     ]
    },
    {
     "name": "stdout",
     "output_type": "stream",
     "text": [
      "Current Estimate R2 is 0.45419217447646637\n",
      "Epoch 16/100, Loss: 0.5667778193321708\n"
     ]
    },
    {
     "name": "stderr",
     "output_type": "stream",
     "text": [
      "Epoch 17/100: 100%|██████████| 1232/1232 [00:01<00:00, 739.50it/s]\n"
     ]
    },
    {
     "name": "stdout",
     "output_type": "stream",
     "text": [
      "Current Estimate R2 is 0.45881128734606946\n",
      "Epoch 17/100, Loss: 0.5678733940925691\n"
     ]
    },
    {
     "name": "stderr",
     "output_type": "stream",
     "text": [
      "Epoch 18/100: 100%|██████████| 1232/1232 [00:01<00:00, 742.30it/s]\n"
     ]
    },
    {
     "name": "stdout",
     "output_type": "stream",
     "text": [
      "Current Estimate R2 is 0.45678451875449505\n",
      "Epoch 18/100, Loss: 0.5675280194536045\n"
     ]
    },
    {
     "name": "stderr",
     "output_type": "stream",
     "text": [
      "Epoch 19/100: 100%|██████████| 1232/1232 [00:01<00:00, 746.99it/s]\n"
     ]
    },
    {
     "name": "stdout",
     "output_type": "stream",
     "text": [
      "Current Estimate R2 is 0.4630556964742368\n",
      "Saved model\n",
      "Epoch 19/100, Loss: 0.5669070548051364\n"
     ]
    },
    {
     "name": "stderr",
     "output_type": "stream",
     "text": [
      "Epoch 20/100: 100%|██████████| 1232/1232 [00:01<00:00, 717.44it/s]\n"
     ]
    },
    {
     "name": "stdout",
     "output_type": "stream",
     "text": [
      "Current Estimate R2 is 0.4595431391398941\n",
      "Epoch 20/100, Loss: 0.5676598927465739\n"
     ]
    },
    {
     "name": "stderr",
     "output_type": "stream",
     "text": [
      "Epoch 21/100: 100%|██████████| 1232/1232 [00:01<00:00, 717.40it/s]\n"
     ]
    },
    {
     "name": "stdout",
     "output_type": "stream",
     "text": [
      "Current Estimate R2 is 0.4593902466861744\n",
      "Epoch 21/100, Loss: 0.5674637471652263\n"
     ]
    },
    {
     "name": "stderr",
     "output_type": "stream",
     "text": [
      "Epoch 22/100: 100%|██████████| 1232/1232 [00:01<00:00, 723.83it/s]\n"
     ]
    },
    {
     "name": "stdout",
     "output_type": "stream",
     "text": [
      "Current Estimate R2 is 0.4578946481652451\n",
      "Epoch 22/100, Loss: 0.567376295491666\n"
     ]
    },
    {
     "name": "stderr",
     "output_type": "stream",
     "text": [
      "Epoch 23/100: 100%|██████████| 1232/1232 [00:01<00:00, 688.18it/s]\n"
     ]
    },
    {
     "name": "stdout",
     "output_type": "stream",
     "text": [
      "Current Estimate R2 is 0.4604260327015246\n",
      "Epoch 23/100, Loss: 0.5675034197410206\n"
     ]
    },
    {
     "name": "stderr",
     "output_type": "stream",
     "text": [
      "Epoch 24/100: 100%|██████████| 1232/1232 [00:01<00:00, 688.60it/s]\n"
     ]
    },
    {
     "name": "stdout",
     "output_type": "stream",
     "text": [
      "Current Estimate R2 is 0.45891366183141896\n",
      "Epoch 24/100, Loss: 0.5674735096513064\n"
     ]
    },
    {
     "name": "stderr",
     "output_type": "stream",
     "text": [
      "Epoch 25/100: 100%|██████████| 1232/1232 [00:01<00:00, 685.38it/s]\n"
     ]
    },
    {
     "name": "stdout",
     "output_type": "stream",
     "text": [
      "Current Estimate R2 is 0.4501414496792984\n",
      "Epoch 25/100, Loss: 0.5671542447737672\n"
     ]
    },
    {
     "name": "stderr",
     "output_type": "stream",
     "text": [
      "Epoch 26/100: 100%|██████████| 1232/1232 [00:01<00:00, 697.17it/s]\n"
     ]
    },
    {
     "name": "stdout",
     "output_type": "stream",
     "text": [
      "Current Estimate R2 is 0.4512805377554594\n",
      "Epoch 26/100, Loss: 0.56699269456039\n"
     ]
    },
    {
     "name": "stderr",
     "output_type": "stream",
     "text": [
      "Epoch 27/100: 100%|██████████| 1232/1232 [00:01<00:00, 772.09it/s]\n"
     ]
    },
    {
     "name": "stdout",
     "output_type": "stream",
     "text": [
      "Current Estimate R2 is 0.45888138684503516\n",
      "Epoch 27/100, Loss: 0.5671600945680947\n"
     ]
    },
    {
     "name": "stderr",
     "output_type": "stream",
     "text": [
      "Epoch 28/100: 100%|██████████| 1232/1232 [00:01<00:00, 771.16it/s]\n"
     ]
    },
    {
     "name": "stdout",
     "output_type": "stream",
     "text": [
      "Current Estimate R2 is 0.4587633585030635\n",
      "Epoch 28/100, Loss: 0.5679633228180857\n"
     ]
    },
    {
     "name": "stderr",
     "output_type": "stream",
     "text": [
      "Epoch 29/100: 100%|██████████| 1232/1232 [00:01<00:00, 767.43it/s]\n"
     ]
    },
    {
     "name": "stdout",
     "output_type": "stream",
     "text": [
      "Current Estimate R2 is 0.4539220529567422\n",
      "Epoch 29/100, Loss: 0.566972979138811\n"
     ]
    },
    {
     "name": "stderr",
     "output_type": "stream",
     "text": [
      "Epoch 30/100: 100%|██████████| 1232/1232 [00:01<00:00, 764.87it/s]\n"
     ]
    },
    {
     "name": "stdout",
     "output_type": "stream",
     "text": [
      "Current Estimate R2 is 0.460344444732413\n",
      "Epoch 30/100, Loss: 0.5672716779706927\n"
     ]
    },
    {
     "name": "stderr",
     "output_type": "stream",
     "text": [
      "Epoch 31/100: 100%|██████████| 1232/1232 [00:01<00:00, 717.21it/s]\n"
     ]
    },
    {
     "name": "stdout",
     "output_type": "stream",
     "text": [
      "Current Estimate R2 is 0.45656895470392694\n",
      "Epoch 31/100, Loss: 0.5672698228003142\n"
     ]
    },
    {
     "name": "stderr",
     "output_type": "stream",
     "text": [
      "Epoch 32/100: 100%|██████████| 1232/1232 [00:01<00:00, 721.48it/s]\n"
     ]
    },
    {
     "name": "stdout",
     "output_type": "stream",
     "text": [
      "Current Estimate R2 is 0.4604142383784182\n",
      "Epoch 32/100, Loss: 0.5673439565852478\n"
     ]
    },
    {
     "name": "stderr",
     "output_type": "stream",
     "text": [
      "Epoch 33/100: 100%|██████████| 1232/1232 [00:01<00:00, 719.78it/s]\n"
     ]
    },
    {
     "name": "stdout",
     "output_type": "stream",
     "text": [
      "Current Estimate R2 is 0.4616436320469539\n",
      "Epoch 33/100, Loss: 0.5674577076955662\n"
     ]
    },
    {
     "name": "stderr",
     "output_type": "stream",
     "text": [
      "Epoch 34/100: 100%|██████████| 1232/1232 [00:01<00:00, 778.48it/s]\n"
     ]
    },
    {
     "name": "stdout",
     "output_type": "stream",
     "text": [
      "Current Estimate R2 is 0.4594929049381646\n",
      "Epoch 34/100, Loss: 0.5672567317673525\n"
     ]
    },
    {
     "name": "stderr",
     "output_type": "stream",
     "text": [
      "Epoch 35/100: 100%|██████████| 1232/1232 [00:01<00:00, 776.89it/s]\n"
     ]
    },
    {
     "name": "stdout",
     "output_type": "stream",
     "text": [
      "Current Estimate R2 is 0.45795660290717716\n",
      "Epoch 35/100, Loss: 0.5668010718685079\n"
     ]
    },
    {
     "name": "stderr",
     "output_type": "stream",
     "text": [
      "Epoch 36/100: 100%|██████████| 1232/1232 [00:01<00:00, 773.20it/s]\n"
     ]
    },
    {
     "name": "stdout",
     "output_type": "stream",
     "text": [
      "Current Estimate R2 is 0.4559219671798697\n",
      "Epoch 36/100, Loss: 0.5667121493100346\n"
     ]
    },
    {
     "name": "stderr",
     "output_type": "stream",
     "text": [
      "Epoch 37/100: 100%|██████████| 1232/1232 [00:01<00:00, 728.52it/s]\n"
     ]
    },
    {
     "name": "stdout",
     "output_type": "stream",
     "text": [
      "Current Estimate R2 is 0.46077810250006057\n",
      "Epoch 37/100, Loss: 0.5673409917379741\n"
     ]
    },
    {
     "name": "stderr",
     "output_type": "stream",
     "text": [
      "Epoch 38/100: 100%|██████████| 1232/1232 [00:01<00:00, 669.32it/s]\n"
     ]
    },
    {
     "name": "stdout",
     "output_type": "stream",
     "text": [
      "Current Estimate R2 is 0.4587487089126297\n",
      "Epoch 38/100, Loss: 0.5669780691916292\n"
     ]
    },
    {
     "name": "stderr",
     "output_type": "stream",
     "text": [
      "Epoch 39/100: 100%|██████████| 1232/1232 [00:01<00:00, 678.69it/s]\n"
     ]
    },
    {
     "name": "stdout",
     "output_type": "stream",
     "text": [
      "Current Estimate R2 is 0.45945508045578604\n",
      "Epoch 39/100, Loss: 0.5660841277522313\n"
     ]
    },
    {
     "name": "stderr",
     "output_type": "stream",
     "text": [
      "Epoch 40/100: 100%|██████████| 1232/1232 [00:01<00:00, 693.02it/s]\n"
     ]
    },
    {
     "name": "stdout",
     "output_type": "stream",
     "text": [
      "Current Estimate R2 is 0.4603649291044014\n",
      "Epoch 40/100, Loss: 0.5665869181129065\n"
     ]
    },
    {
     "name": "stderr",
     "output_type": "stream",
     "text": [
      "Epoch 41/100: 100%|██████████| 1232/1232 [00:01<00:00, 699.08it/s]\n"
     ]
    },
    {
     "name": "stdout",
     "output_type": "stream",
     "text": [
      "Current Estimate R2 is 0.4588104209479938\n",
      "Epoch 41/100, Loss: 0.5663575561257539\n"
     ]
    },
    {
     "name": "stderr",
     "output_type": "stream",
     "text": [
      "Epoch 42/100: 100%|██████████| 1232/1232 [00:01<00:00, 716.00it/s]\n"
     ]
    },
    {
     "name": "stdout",
     "output_type": "stream",
     "text": [
      "Current Estimate R2 is 0.46116924011071764\n",
      "Epoch 42/100, Loss: 0.566055090856049\n"
     ]
    },
    {
     "name": "stderr",
     "output_type": "stream",
     "text": [
      "Epoch 43/100: 100%|██████████| 1232/1232 [00:01<00:00, 672.37it/s]\n"
     ]
    },
    {
     "name": "stdout",
     "output_type": "stream",
     "text": [
      "Current Estimate R2 is 0.46261111881316097\n",
      "Epoch 43/100, Loss: 0.5671633778793084\n"
     ]
    },
    {
     "name": "stderr",
     "output_type": "stream",
     "text": [
      "Epoch 44/100: 100%|██████████| 1232/1232 [00:01<00:00, 712.36it/s]\n"
     ]
    },
    {
     "name": "stdout",
     "output_type": "stream",
     "text": [
      "Current Estimate R2 is 0.45979182674574437\n",
      "Epoch 44/100, Loss: 0.566393848823069\n"
     ]
    },
    {
     "name": "stderr",
     "output_type": "stream",
     "text": [
      "Epoch 45/100: 100%|██████████| 1232/1232 [00:01<00:00, 746.87it/s]\n"
     ]
    },
    {
     "name": "stdout",
     "output_type": "stream",
     "text": [
      "Current Estimate R2 is 0.45709085454791065\n",
      "Epoch 45/100, Loss: 0.566182469054089\n"
     ]
    },
    {
     "name": "stderr",
     "output_type": "stream",
     "text": [
      "Epoch 46/100: 100%|██████████| 1232/1232 [00:01<00:00, 730.77it/s]\n"
     ]
    },
    {
     "name": "stdout",
     "output_type": "stream",
     "text": [
      "Current Estimate R2 is 0.4577097668528926\n",
      "Epoch 46/100, Loss: 0.5662911887002455\n"
     ]
    },
    {
     "name": "stderr",
     "output_type": "stream",
     "text": [
      "Epoch 47/100: 100%|██████████| 1232/1232 [00:01<00:00, 731.43it/s]\n"
     ]
    },
    {
     "name": "stdout",
     "output_type": "stream",
     "text": [
      "Current Estimate R2 is 0.45694501789511793\n",
      "Epoch 47/100, Loss: 0.5662868802568742\n"
     ]
    },
    {
     "name": "stderr",
     "output_type": "stream",
     "text": [
      "Epoch 48/100: 100%|██████████| 1232/1232 [00:01<00:00, 755.89it/s]\n"
     ]
    },
    {
     "name": "stdout",
     "output_type": "stream",
     "text": [
      "Current Estimate R2 is 0.4590533138014538\n",
      "Epoch 48/100, Loss: 0.5665656610742792\n"
     ]
    },
    {
     "name": "stderr",
     "output_type": "stream",
     "text": [
      "Epoch 49/100: 100%|██████████| 1232/1232 [00:01<00:00, 749.68it/s]\n"
     ]
    },
    {
     "name": "stdout",
     "output_type": "stream",
     "text": [
      "Current Estimate R2 is 0.462419417998928\n",
      "Epoch 49/100, Loss: 0.5665301458740776\n"
     ]
    },
    {
     "name": "stderr",
     "output_type": "stream",
     "text": [
      "Epoch 50/100: 100%|██████████| 1232/1232 [00:01<00:00, 759.85it/s]\n"
     ]
    },
    {
     "name": "stdout",
     "output_type": "stream",
     "text": [
      "Current Estimate R2 is 0.4597566030674831\n",
      "Epoch 50/100, Loss: 0.5660328908593624\n"
     ]
    },
    {
     "name": "stderr",
     "output_type": "stream",
     "text": [
      "Epoch 51/100: 100%|██████████| 1232/1232 [00:01<00:00, 751.94it/s]\n"
     ]
    },
    {
     "name": "stdout",
     "output_type": "stream",
     "text": [
      "Current Estimate R2 is 0.457927203837959\n",
      "Epoch 51/100, Loss: 0.5664637175376539\n"
     ]
    },
    {
     "name": "stderr",
     "output_type": "stream",
     "text": [
      "Epoch 52/100: 100%|██████████| 1232/1232 [00:01<00:00, 628.39it/s]\n"
     ]
    },
    {
     "name": "stdout",
     "output_type": "stream",
     "text": [
      "Current Estimate R2 is 0.45708260098863834\n",
      "Epoch 52/100, Loss: 0.5658260076851039\n"
     ]
    },
    {
     "name": "stderr",
     "output_type": "stream",
     "text": [
      "Epoch 53/100: 100%|██████████| 1232/1232 [00:01<00:00, 623.99it/s]\n"
     ]
    },
    {
     "name": "stdout",
     "output_type": "stream",
     "text": [
      "Current Estimate R2 is 0.4544680686609531\n",
      "Epoch 53/100, Loss: 0.5664853852290612\n"
     ]
    },
    {
     "name": "stderr",
     "output_type": "stream",
     "text": [
      "Epoch 54/100: 100%|██████████| 1232/1232 [00:01<00:00, 616.60it/s]\n"
     ]
    },
    {
     "name": "stdout",
     "output_type": "stream",
     "text": [
      "Current Estimate R2 is 0.4578281667713559\n",
      "Epoch 54/100, Loss: 0.5663298418043883\n"
     ]
    },
    {
     "name": "stderr",
     "output_type": "stream",
     "text": [
      "Epoch 55/100: 100%|██████████| 1232/1232 [00:01<00:00, 698.50it/s]\n"
     ]
    },
    {
     "name": "stdout",
     "output_type": "stream",
     "text": [
      "Current Estimate R2 is 0.4585091331892493\n",
      "Epoch 55/100, Loss: 0.5662547370491476\n"
     ]
    },
    {
     "name": "stderr",
     "output_type": "stream",
     "text": [
      "Epoch 56/100: 100%|██████████| 1232/1232 [00:01<00:00, 762.27it/s]\n"
     ]
    },
    {
     "name": "stdout",
     "output_type": "stream",
     "text": [
      "Current Estimate R2 is 0.4595823777110659\n",
      "Epoch 56/100, Loss: 0.5661218412123717\n"
     ]
    },
    {
     "name": "stderr",
     "output_type": "stream",
     "text": [
      "Epoch 57/100: 100%|██████████| 1232/1232 [00:01<00:00, 747.94it/s]\n"
     ]
    },
    {
     "name": "stdout",
     "output_type": "stream",
     "text": [
      "Current Estimate R2 is 0.4629706549070273\n",
      "Epoch 57/100, Loss: 0.566694685584539\n"
     ]
    },
    {
     "name": "stderr",
     "output_type": "stream",
     "text": [
      "Epoch 58/100: 100%|██████████| 1232/1232 [00:01<00:00, 752.28it/s]\n"
     ]
    },
    {
     "name": "stdout",
     "output_type": "stream",
     "text": [
      "Current Estimate R2 is 0.45792008444972443\n",
      "Epoch 58/100, Loss: 0.5661455641512747\n"
     ]
    },
    {
     "name": "stderr",
     "output_type": "stream",
     "text": [
      "Epoch 59/100: 100%|██████████| 1232/1232 [00:01<00:00, 777.41it/s]\n"
     ]
    },
    {
     "name": "stdout",
     "output_type": "stream",
     "text": [
      "Current Estimate R2 is 0.4541681501337764\n",
      "Epoch 59/100, Loss: 0.5663839315681102\n"
     ]
    },
    {
     "name": "stderr",
     "output_type": "stream",
     "text": [
      "Epoch 60/100: 100%|██████████| 1232/1232 [00:01<00:00, 789.55it/s]\n"
     ]
    },
    {
     "name": "stdout",
     "output_type": "stream",
     "text": [
      "Current Estimate R2 is 0.4590407803795436\n",
      "Epoch 60/100, Loss: 0.5670513217518856\n"
     ]
    },
    {
     "name": "stderr",
     "output_type": "stream",
     "text": [
      "Epoch 61/100: 100%|██████████| 1232/1232 [00:01<00:00, 762.40it/s]\n"
     ]
    },
    {
     "name": "stdout",
     "output_type": "stream",
     "text": [
      "Current Estimate R2 is 0.4549737044412235\n",
      "Epoch 61/100, Loss: 0.5658507364281973\n"
     ]
    },
    {
     "name": "stderr",
     "output_type": "stream",
     "text": [
      "Epoch 62/100: 100%|██████████| 1232/1232 [00:01<00:00, 718.41it/s]\n"
     ]
    },
    {
     "name": "stdout",
     "output_type": "stream",
     "text": [
      "Current Estimate R2 is 0.45901120057869454\n",
      "Epoch 62/100, Loss: 0.5663973435928876\n"
     ]
    },
    {
     "name": "stderr",
     "output_type": "stream",
     "text": [
      "Epoch 63/100: 100%|██████████| 1232/1232 [00:01<00:00, 718.14it/s]\n"
     ]
    },
    {
     "name": "stdout",
     "output_type": "stream",
     "text": [
      "Current Estimate R2 is 0.4559106210263173\n",
      "Epoch 63/100, Loss: 0.5659335024122681\n"
     ]
    },
    {
     "name": "stderr",
     "output_type": "stream",
     "text": [
      "Epoch 64/100: 100%|██████████| 1232/1232 [00:01<00:00, 733.43it/s]\n"
     ]
    },
    {
     "name": "stdout",
     "output_type": "stream",
     "text": [
      "Current Estimate R2 is 0.4549253641268873\n",
      "Epoch 64/100, Loss: 0.5661821836339576\n"
     ]
    },
    {
     "name": "stderr",
     "output_type": "stream",
     "text": [
      "Epoch 65/100: 100%|██████████| 1232/1232 [00:01<00:00, 731.98it/s]\n"
     ]
    },
    {
     "name": "stdout",
     "output_type": "stream",
     "text": [
      "Current Estimate R2 is 0.4623944169681922\n",
      "Epoch 65/100, Loss: 0.5662906506376995\n"
     ]
    },
    {
     "name": "stderr",
     "output_type": "stream",
     "text": [
      "Epoch 66/100: 100%|██████████| 1232/1232 [00:01<00:00, 721.47it/s]\n"
     ]
    },
    {
     "name": "stdout",
     "output_type": "stream",
     "text": [
      "Current Estimate R2 is 0.46231121376146217\n",
      "Epoch 66/100, Loss: 0.565827016029265\n"
     ]
    },
    {
     "name": "stderr",
     "output_type": "stream",
     "text": [
      "Epoch 67/100: 100%|██████████| 1232/1232 [00:01<00:00, 705.02it/s]\n"
     ]
    },
    {
     "name": "stdout",
     "output_type": "stream",
     "text": [
      "Current Estimate R2 is 0.459239088014219\n",
      "Epoch 67/100, Loss: 0.5662978110810766\n"
     ]
    },
    {
     "name": "stderr",
     "output_type": "stream",
     "text": [
      "Epoch 68/100: 100%|██████████| 1232/1232 [00:01<00:00, 718.97it/s]\n"
     ]
    },
    {
     "name": "stdout",
     "output_type": "stream",
     "text": [
      "Current Estimate R2 is 0.46178737926055674\n",
      "Epoch 68/100, Loss: 0.5662386417630818\n"
     ]
    },
    {
     "name": "stderr",
     "output_type": "stream",
     "text": [
      "Epoch 69/100: 100%|██████████| 1232/1232 [00:01<00:00, 757.33it/s]\n"
     ]
    },
    {
     "name": "stdout",
     "output_type": "stream",
     "text": [
      "Current Estimate R2 is 0.45686345770062003\n",
      "Epoch 69/100, Loss: 0.5661640584033418\n"
     ]
    },
    {
     "name": "stderr",
     "output_type": "stream",
     "text": [
      "Epoch 70/100: 100%|██████████| 1232/1232 [00:01<00:00, 810.09it/s]\n"
     ]
    },
    {
     "name": "stdout",
     "output_type": "stream",
     "text": [
      "Current Estimate R2 is 0.46045682348701233\n",
      "Epoch 70/100, Loss: 0.5659127393858386\n"
     ]
    },
    {
     "name": "stderr",
     "output_type": "stream",
     "text": [
      "Epoch 71/100: 100%|██████████| 1232/1232 [00:01<00:00, 810.56it/s]\n"
     ]
    },
    {
     "name": "stdout",
     "output_type": "stream",
     "text": [
      "Current Estimate R2 is 0.4630651799557981\n",
      "Saved model\n",
      "Epoch 71/100, Loss: 0.5664965681393038\n"
     ]
    },
    {
     "name": "stderr",
     "output_type": "stream",
     "text": [
      "Epoch 72/100: 100%|██████████| 1232/1232 [00:01<00:00, 789.08it/s]\n"
     ]
    },
    {
     "name": "stdout",
     "output_type": "stream",
     "text": [
      "Current Estimate R2 is 0.45882980024765924\n",
      "Epoch 72/100, Loss: 0.5662625008927924\n"
     ]
    },
    {
     "name": "stderr",
     "output_type": "stream",
     "text": [
      "Epoch 73/100: 100%|██████████| 1232/1232 [00:01<00:00, 705.53it/s]\n"
     ]
    },
    {
     "name": "stdout",
     "output_type": "stream",
     "text": [
      "Current Estimate R2 is 0.46020075671991184\n",
      "Epoch 73/100, Loss: 0.5659719387722479\n"
     ]
    },
    {
     "name": "stderr",
     "output_type": "stream",
     "text": [
      "Epoch 74/100: 100%|██████████| 1232/1232 [00:01<00:00, 709.73it/s]\n"
     ]
    },
    {
     "name": "stdout",
     "output_type": "stream",
     "text": [
      "Current Estimate R2 is 0.4561704086129789\n",
      "Epoch 74/100, Loss: 0.5656039392599812\n"
     ]
    },
    {
     "name": "stderr",
     "output_type": "stream",
     "text": [
      "Epoch 75/100: 100%|██████████| 1232/1232 [00:01<00:00, 721.10it/s]\n"
     ]
    },
    {
     "name": "stdout",
     "output_type": "stream",
     "text": [
      "Current Estimate R2 is 0.4610394758043881\n",
      "Epoch 75/100, Loss: 0.5657486283256636\n"
     ]
    },
    {
     "name": "stderr",
     "output_type": "stream",
     "text": [
      "Epoch 76/100: 100%|██████████| 1232/1232 [00:01<00:00, 727.19it/s]\n"
     ]
    },
    {
     "name": "stdout",
     "output_type": "stream",
     "text": [
      "Current Estimate R2 is 0.4581775199007811\n",
      "Epoch 76/100, Loss: 0.5658764708787203\n"
     ]
    },
    {
     "name": "stderr",
     "output_type": "stream",
     "text": [
      "Epoch 77/100: 100%|██████████| 1232/1232 [00:01<00:00, 708.14it/s]\n"
     ]
    },
    {
     "name": "stdout",
     "output_type": "stream",
     "text": [
      "Current Estimate R2 is 0.4548841386765316\n",
      "Epoch 77/100, Loss: 0.5661538945777076\n"
     ]
    },
    {
     "name": "stderr",
     "output_type": "stream",
     "text": [
      "Epoch 78/100: 100%|██████████| 1232/1232 [00:01<00:00, 721.89it/s]\n"
     ]
    },
    {
     "name": "stdout",
     "output_type": "stream",
     "text": [
      "Current Estimate R2 is 0.45932702818518045\n",
      "Epoch 78/100, Loss: 0.5662348033110429\n"
     ]
    },
    {
     "name": "stderr",
     "output_type": "stream",
     "text": [
      "Epoch 79/100: 100%|██████████| 1232/1232 [00:01<00:00, 735.28it/s]\n"
     ]
    },
    {
     "name": "stdout",
     "output_type": "stream",
     "text": [
      "Current Estimate R2 is 0.4580470333680892\n",
      "Epoch 79/100, Loss: 0.5665599627347736\n"
     ]
    },
    {
     "name": "stderr",
     "output_type": "stream",
     "text": [
      "Epoch 80/100: 100%|██████████| 1232/1232 [00:01<00:00, 737.19it/s]\n"
     ]
    },
    {
     "name": "stdout",
     "output_type": "stream",
     "text": [
      "Current Estimate R2 is 0.46063927186918274\n",
      "Epoch 80/100, Loss: 0.5652209769740895\n"
     ]
    },
    {
     "name": "stderr",
     "output_type": "stream",
     "text": [
      "Epoch 81/100: 100%|██████████| 1232/1232 [00:01<00:00, 711.48it/s]\n"
     ]
    },
    {
     "name": "stdout",
     "output_type": "stream",
     "text": [
      "Current Estimate R2 is 0.4589594696454764\n",
      "Epoch 81/100, Loss: 0.5660606032938926\n"
     ]
    },
    {
     "name": "stderr",
     "output_type": "stream",
     "text": [
      "Epoch 82/100: 100%|██████████| 1232/1232 [00:01<00:00, 693.54it/s]\n"
     ]
    },
    {
     "name": "stdout",
     "output_type": "stream",
     "text": [
      "Current Estimate R2 is 0.46060944459357817\n",
      "Epoch 82/100, Loss: 0.565895538777113\n"
     ]
    },
    {
     "name": "stderr",
     "output_type": "stream",
     "text": [
      "Epoch 83/100: 100%|██████████| 1232/1232 [00:01<00:00, 695.78it/s]\n"
     ]
    },
    {
     "name": "stdout",
     "output_type": "stream",
     "text": [
      "Current Estimate R2 is 0.4555124748989698\n",
      "Epoch 83/100, Loss: 0.5657529679743888\n"
     ]
    },
    {
     "name": "stderr",
     "output_type": "stream",
     "text": [
      "Epoch 84/100: 100%|██████████| 1232/1232 [00:01<00:00, 723.68it/s]\n"
     ]
    },
    {
     "name": "stdout",
     "output_type": "stream",
     "text": [
      "Current Estimate R2 is 0.45885180369125567\n",
      "Epoch 84/100, Loss: 0.5656173984435472\n"
     ]
    },
    {
     "name": "stderr",
     "output_type": "stream",
     "text": [
      "Epoch 85/100: 100%|██████████| 1232/1232 [00:01<00:00, 700.02it/s]\n"
     ]
    },
    {
     "name": "stdout",
     "output_type": "stream",
     "text": [
      "Current Estimate R2 is 0.46200375374362085\n",
      "Epoch 85/100, Loss: 0.5657275777503654\n"
     ]
    },
    {
     "name": "stderr",
     "output_type": "stream",
     "text": [
      "Epoch 86/100: 100%|██████████| 1232/1232 [00:01<00:00, 699.10it/s]\n"
     ]
    },
    {
     "name": "stdout",
     "output_type": "stream",
     "text": [
      "Current Estimate R2 is 0.457868765722175\n",
      "Epoch 86/100, Loss: 0.5659859093849535\n"
     ]
    },
    {
     "name": "stderr",
     "output_type": "stream",
     "text": [
      "Epoch 87/100: 100%|██████████| 1232/1232 [00:01<00:00, 694.31it/s]\n"
     ]
    },
    {
     "name": "stdout",
     "output_type": "stream",
     "text": [
      "Current Estimate R2 is 0.4620715706722312\n",
      "Epoch 87/100, Loss: 0.5662061610779205\n"
     ]
    },
    {
     "name": "stderr",
     "output_type": "stream",
     "text": [
      "Epoch 88/100: 100%|██████████| 1232/1232 [00:01<00:00, 706.99it/s]\n"
     ]
    },
    {
     "name": "stdout",
     "output_type": "stream",
     "text": [
      "Current Estimate R2 is 0.4604754946589122\n",
      "Epoch 88/100, Loss: 0.5658179781363382\n"
     ]
    },
    {
     "name": "stderr",
     "output_type": "stream",
     "text": [
      "Epoch 89/100: 100%|██████████| 1232/1232 [00:01<00:00, 693.41it/s]\n"
     ]
    },
    {
     "name": "stdout",
     "output_type": "stream",
     "text": [
      "Current Estimate R2 is 0.4570079070782274\n",
      "Epoch 89/100, Loss: 0.5661337050887478\n"
     ]
    },
    {
     "name": "stderr",
     "output_type": "stream",
     "text": [
      "Epoch 90/100: 100%|██████████| 1232/1232 [00:01<00:00, 706.75it/s]\n"
     ]
    },
    {
     "name": "stdout",
     "output_type": "stream",
     "text": [
      "Current Estimate R2 is 0.45824739843025997\n",
      "Epoch 90/100, Loss: 0.5663872589296722\n"
     ]
    },
    {
     "name": "stderr",
     "output_type": "stream",
     "text": [
      "Epoch 91/100: 100%|██████████| 1232/1232 [00:01<00:00, 689.52it/s]\n"
     ]
    },
    {
     "name": "stdout",
     "output_type": "stream",
     "text": [
      "Current Estimate R2 is 0.4621460646106131\n",
      "Epoch 91/100, Loss: 0.5655152359372609\n"
     ]
    },
    {
     "name": "stderr",
     "output_type": "stream",
     "text": [
      "Epoch 92/100: 100%|██████████| 1232/1232 [00:01<00:00, 701.56it/s]\n"
     ]
    },
    {
     "name": "stdout",
     "output_type": "stream",
     "text": [
      "Current Estimate R2 is 0.46033951017853586\n",
      "Epoch 92/100, Loss: 0.5657050329466145\n"
     ]
    },
    {
     "name": "stderr",
     "output_type": "stream",
     "text": [
      "Epoch 93/100: 100%|██████████| 1232/1232 [00:01<00:00, 733.35it/s]\n"
     ]
    },
    {
     "name": "stdout",
     "output_type": "stream",
     "text": [
      "Current Estimate R2 is 0.46371670597199793\n",
      "Saved model\n",
      "Epoch 93/100, Loss: 0.5657123055357438\n"
     ]
    },
    {
     "name": "stderr",
     "output_type": "stream",
     "text": [
      "Epoch 94/100: 100%|██████████| 1232/1232 [00:01<00:00, 698.73it/s]\n"
     ]
    },
    {
     "name": "stdout",
     "output_type": "stream",
     "text": [
      "Current Estimate R2 is 0.4581485636522949\n",
      "Epoch 94/100, Loss: 0.5649944529808187\n"
     ]
    },
    {
     "name": "stderr",
     "output_type": "stream",
     "text": [
      "Epoch 95/100: 100%|██████████| 1232/1232 [00:01<00:00, 688.42it/s]\n"
     ]
    },
    {
     "name": "stdout",
     "output_type": "stream",
     "text": [
      "Current Estimate R2 is 0.4582085259847015\n",
      "Epoch 95/100, Loss: 0.5665059067405663\n"
     ]
    },
    {
     "name": "stderr",
     "output_type": "stream",
     "text": [
      "Epoch 96/100: 100%|██████████| 1232/1232 [00:01<00:00, 645.08it/s]\n"
     ]
    },
    {
     "name": "stdout",
     "output_type": "stream",
     "text": [
      "Current Estimate R2 is 0.45672677476031326\n",
      "Epoch 96/100, Loss: 0.5656529606694912\n"
     ]
    },
    {
     "name": "stderr",
     "output_type": "stream",
     "text": [
      "Epoch 97/100: 100%|██████████| 1232/1232 [00:01<00:00, 691.65it/s]\n"
     ]
    },
    {
     "name": "stdout",
     "output_type": "stream",
     "text": [
      "Current Estimate R2 is 0.4581048989444823\n",
      "Epoch 97/100, Loss: 0.5662194475192915\n"
     ]
    },
    {
     "name": "stderr",
     "output_type": "stream",
     "text": [
      "Epoch 98/100: 100%|██████████| 1232/1232 [00:01<00:00, 767.48it/s]\n"
     ]
    },
    {
     "name": "stdout",
     "output_type": "stream",
     "text": [
      "Current Estimate R2 is 0.45788339328730765\n",
      "Epoch 98/100, Loss: 0.5658043890272255\n"
     ]
    },
    {
     "name": "stderr",
     "output_type": "stream",
     "text": [
      "Epoch 99/100: 100%|██████████| 1232/1232 [00:01<00:00, 776.51it/s]\n"
     ]
    },
    {
     "name": "stdout",
     "output_type": "stream",
     "text": [
      "Current Estimate R2 is 0.4613438973172656\n",
      "Epoch 99/100, Loss: 0.566162646179656\n"
     ]
    },
    {
     "name": "stderr",
     "output_type": "stream",
     "text": [
      "Epoch 100/100: 100%|██████████| 1232/1232 [00:01<00:00, 768.08it/s]"
     ]
    },
    {
     "name": "stdout",
     "output_type": "stream",
     "text": [
      "Current Estimate R2 is 0.45942402012931344\n",
      "Epoch 100/100, Loss: 0.5658085811883211\n"
     ]
    },
    {
     "name": "stderr",
     "output_type": "stream",
     "text": [
      "\n"
     ]
    }
   ],
   "source": [
    "epochs = 100\n",
    "best_model = model\n",
    "bestR2 = float('-inf')\n",
    "\n",
    "for epoch in range(epochs):\n",
    "    model.train()\n",
    "    epoch_loss = 0\n",
    "    for batch_X, batch_Y in tqdm(train_loader, desc=f\"Epoch {epoch+1}/{epochs}\"):\n",
    "        batch_Y = (batch_Y - output_mean) / output_std\n",
    "        batch_X, batch_Y = batch_X.to(device).float(), batch_Y.to(device).float()\n",
    "        optimizer.zero_grad()\n",
    "        outputs = model(batch_X)\n",
    "        loss = criterion(outputs, batch_Y)\n",
    "        loss.backward()\n",
    "        optimizer.step()\n",
    "        epoch_loss += loss.item()\n",
    "    currentR2 = R2eval(model, X_val_tensor, Y_val_tensor)\n",
    "    print(f\"Current Estimate R2 is {currentR2}\")\n",
    "    if (currentR2 > bestR2):\n",
    "        best_model = model\n",
    "        bestR2 = currentR2\n",
    "        print(\"Saved model\")\n",
    "    print(f\"Epoch {epoch+1}/{epochs}, Loss: {epoch_loss/len(train_loader)}\")"
   ]
  },
  {
   "cell_type": "code",
   "execution_count": 8,
   "metadata": {},
   "outputs": [],
   "source": [
    "X_test_tensor = X_test_tensor.to(device)\n",
    "\n",
    "with torch.no_grad():\n",
    "    test_predictions = best_model(X_test_tensor).cpu().numpy()\n",
    "    test_predictions = test_predictions * output_std + output_mean\n",
    "\n",
    "predictions_df = pd.DataFrame(test_predictions, columns=['X4', 'X11', 'X18', 'X26', 'X50', 'X3112'])\n",
    "predictions_df.insert(0, 'id', IDs_test)\n",
    "\n",
    "# Save the predictions to a CSV file\n",
    "predictions_df.to_csv('predictions.csv', index=False)"
   ]
  },
  {
   "cell_type": "code",
   "execution_count": null,
   "metadata": {},
   "outputs": [],
   "source": []
  }
 ],
 "metadata": {
  "kernelspec": {
   "display_name": "Python 3",
   "language": "python",
   "name": "python3"
  },
  "language_info": {
   "codemirror_mode": {
    "name": "ipython",
    "version": 3
   },
   "file_extension": ".py",
   "mimetype": "text/x-python",
   "name": "python",
   "nbconvert_exporter": "python",
   "pygments_lexer": "ipython3",
   "version": "3.10.11"
  }
 },
 "nbformat": 4,
 "nbformat_minor": 2
}
